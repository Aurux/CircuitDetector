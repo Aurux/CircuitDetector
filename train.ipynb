{
 "cells": [
  {
   "cell_type": "markdown",
   "id": "81c9974d",
   "metadata": {},
   "source": [
    "# Training Script"
   ]
  },
  {
   "cell_type": "code",
   "execution_count": 1,
   "id": "6dd90b33",
   "metadata": {},
   "outputs": [
    {
     "name": "stderr",
     "output_type": "stream",
     "text": [
      "2023-03-09 12:33:57.069906: I tensorflow/core/platform/cpu_feature_guard.cc:193] This TensorFlow binary is optimized with oneAPI Deep Neural Network Library (oneDNN) to use the following CPU instructions in performance-critical operations:  AVX2 FMA\n",
      "To enable them in other operations, rebuild TensorFlow with the appropriate compiler flags.\n"
     ]
    }
   ],
   "source": [
    "import os, object_detection\n",
    "import tensorflow as tf\n",
    "from object_detection.utils import config_util\n",
    "from object_detection.protos import pipeline_pb2\n",
    "from google.protobuf import text_format"
   ]
  },
  {
   "cell_type": "markdown",
   "id": "50597c9f",
   "metadata": {},
   "source": [
    "## Set up file structure and download chosen base model from Model Zoo"
   ]
  },
  {
   "cell_type": "code",
   "execution_count": 2,
   "id": "d3d3c570",
   "metadata": {},
   "outputs": [],
   "source": [
    "modelName = \"640x640_model\"\n",
    "pretrainedModel = \"ssd_mobilenet_v2_fpnlite_640x640_coco17_tpu-8\"\n",
    "pretrainedModelURL = \"http://download.tensorflow.org/models/object_detection/tf2/20200711/ssd_mobilenet_v2_fpnlite_640x640_coco17_tpu-8.tar.gz\"\n",
    "\n",
    "# Script sourced from Tensorflow: https://tensorflow-object-detection-api-tutorial.readthedocs.io/en/tensorflow-1.14/training.html\n",
    "tfRecordScript = \"generate_tfrecord.py\"\n",
    "labelMap = \"label_map.pbtxt\""
   ]
  },
  {
   "cell_type": "code",
   "execution_count": 3,
   "id": "e92e56ea",
   "metadata": {},
   "outputs": [],
   "source": [
    "filePaths = {\n",
    "    \"WORKSPACE\": os.path.join(\"TF\", \"workspace\"),\n",
    "    \"SCRIPTS\": os.path.join(\"TF\", \"scripts\"),\n",
    "    \"APIMODEL\": os.path.join(\"TF\", \"models\"),\n",
    "    \"ANNOTATIONS\": os.path.join(\"TF\", \"workspace\", \"annotations\"),\n",
    "    \"IMAGES\": os.path.join(\"TF\", \"workspace\", \"images\"),\n",
    "    \"PRETRAINED_MODELS\": os.path.join(\"TF\", \"workspace\", \"pretrained_models\"),\n",
    "}"
   ]
  },
  {
   "cell_type": "code",
   "execution_count": 4,
   "id": "4f3fe509",
   "metadata": {},
   "outputs": [],
   "source": [
    "files = {\n",
    "    'PIPELINE_CONFIG':os.path.join('Tensorflow', 'workspace','models', modelName, 'pipeline.config'),\n",
    "    'TF_RECORD_SCRIPT': os.path.join(filePaths['SCRIPTS'], tfRecordScript),\n",
    "    'LABELMAP': os.path.join(filePaths['ANNOTATIONS'], labelMap)\n",
    "}"
   ]
  },
  {
   "cell_type": "code",
   "execution_count": 5,
   "id": "fb2641ee",
   "metadata": {},
   "outputs": [],
   "source": [
    "for path in filePaths.values():\n",
    "    !mkdir -p {path}"
   ]
  },
  {
   "cell_type": "code",
   "execution_count": 6,
   "id": "37aac0b9",
   "metadata": {},
   "outputs": [
    {
     "name": "stdout",
     "output_type": "stream",
     "text": [
      "Cloning into 'TF/models'...\n",
      "remote: Enumerating objects: 81991, done.\u001b[K\n",
      "remote: Counting objects: 100% (458/458), done.\u001b[K\n",
      "remote: Compressing objects: 100% (204/204), done.\u001b[K\n",
      "remote: Total 81991 (delta 293), reused 400 (delta 254), pack-reused 81533\u001b[K\n",
      "Receiving objects: 100% (81991/81991), 596.38 MiB | 5.53 MiB/s, done.\n",
      "Resolving deltas: 100% (58482/58482), done.\n"
     ]
    }
   ],
   "source": [
    "if not os.path.exists(os.path.join(filePaths['APIMODEL'], 'research', 'object_detection')):\n",
    "    !git clone https://github.com/tensorflow/models {filePaths['APIMODEL']}"
   ]
  },
  {
   "cell_type": "code",
   "execution_count": 8,
   "id": "50a038e0",
   "metadata": {},
   "outputs": [
    {
     "name": "stdout",
     "output_type": "stream",
     "text": [
      "--2023-03-09 12:40:10--  http://download.tensorflow.org/models/object_detection/tf2/20200711/ssd_mobilenet_v2_fpnlite_640x640_coco17_tpu-8.tar.gz\n",
      "Resolving download.tensorflow.org (download.tensorflow.org)... 142.250.200.16, 2a00:1450:4009:822::2010\n",
      "Connecting to download.tensorflow.org (download.tensorflow.org)|142.250.200.16|:80... connected.\n",
      "HTTP request sent, awaiting response... 200 OK\n",
      "Length: 20518283 (20M) [application/x-tar]\n",
      "Saving to: ‘ssd_mobilenet_v2_fpnlite_640x640_coco17_tpu-8.tar.gz’\n",
      "\n",
      "ssd_mobilenet_v2_fp 100%[===================>]  19.57M  17.7MB/s    in 1.1s    \n",
      "\n",
      "2023-03-09 12:40:11 (17.7 MB/s) - ‘ssd_mobilenet_v2_fpnlite_640x640_coco17_tpu-8.tar.gz’ saved [20518283/20518283]\n",
      "\n",
      "ssd_mobilenet_v2_fpnlite_640x640_coco17_tpu-8/\n",
      "ssd_mobilenet_v2_fpnlite_640x640_coco17_tpu-8/checkpoint/\n",
      "ssd_mobilenet_v2_fpnlite_640x640_coco17_tpu-8/checkpoint/ckpt-0.data-00000-of-00001\n",
      "ssd_mobilenet_v2_fpnlite_640x640_coco17_tpu-8/checkpoint/checkpoint\n",
      "ssd_mobilenet_v2_fpnlite_640x640_coco17_tpu-8/checkpoint/ckpt-0.index\n",
      "ssd_mobilenet_v2_fpnlite_640x640_coco17_tpu-8/pipeline.config\n",
      "ssd_mobilenet_v2_fpnlite_640x640_coco17_tpu-8/saved_model/\n",
      "ssd_mobilenet_v2_fpnlite_640x640_coco17_tpu-8/saved_model/saved_model.pb\n",
      "ssd_mobilenet_v2_fpnlite_640x640_coco17_tpu-8/saved_model/variables/\n",
      "ssd_mobilenet_v2_fpnlite_640x640_coco17_tpu-8/saved_model/variables/variables.data-00000-of-00001\n",
      "ssd_mobilenet_v2_fpnlite_640x640_coco17_tpu-8/saved_model/variables/variables.index\n"
     ]
    }
   ],
   "source": [
    "!wget {pretrainedModelURL}\n",
    "!mv {pretrainedModel+'.tar.gz'} {filePaths['PRETRAINED_MODELS']}\n",
    "!cd {filePaths['PRETRAINED_MODELS']} && tar -zxvf {pretrainedModel+'.tar.gz'}"
   ]
  },
  {
   "cell_type": "markdown",
   "id": "52cde9a4",
   "metadata": {},
   "source": [
    "# Create label mapping"
   ]
  },
  {
   "cell_type": "code",
   "execution_count": null,
   "id": "8b7dc894",
   "metadata": {},
   "outputs": [],
   "source": [
    "objectLabels = [{'name':'resistor', 'id':1},\n",
    "                {'name':'electrolytic_capacitor', 'id':2},\n",
    "                {'name':'LED', 'id':3},\n",
    "                {'name':'ceramic_capacitor', 'id':4},\n",
    "                {'name':'IC', 'id':5}]\n",
    "\n"
   ]
  }
 ],
 "metadata": {
  "kernelspec": {
   "display_name": "tf",
   "language": "python",
   "name": "tf"
  },
  "language_info": {
   "codemirror_mode": {
    "name": "ipython",
    "version": 3
   },
   "file_extension": ".py",
   "mimetype": "text/x-python",
   "name": "python",
   "nbconvert_exporter": "python",
   "pygments_lexer": "ipython3",
   "version": "3.10.9"
  }
 },
 "nbformat": 4,
 "nbformat_minor": 5
}
