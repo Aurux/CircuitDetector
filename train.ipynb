{
 "cells": [
  {
   "cell_type": "markdown",
   "id": "45968f18",
   "metadata": {},
   "source": [
    "# Training Script"
   ]
  },
  {
   "cell_type": "code",
   "execution_count": 3,
   "id": "a8a39de3",
   "metadata": {},
   "outputs": [
    {
     "name": "stderr",
     "output_type": "stream",
     "text": [
      "2023-03-07 16:24:45.177884: I tensorflow/core/platform/cpu_feature_guard.cc:193] This TensorFlow binary is optimized with oneAPI Deep Neural Network Library (oneDNN) to use the following CPU instructions in performance-critical operations:  AVX2 FMA\n",
      "To enable them in other operations, rebuild TensorFlow with the appropriate compiler flags.\n"
     ]
    }
   ],
   "source": [
    "import os, object_detection\n",
    "import tensorflow as tf\n",
    "from object_detection.utils import config_util\n",
    "from object_detection.protos import pipeline_pb2\n",
    "from google.protobuf import text_format"
   ]
  },
  {
   "cell_type": "code",
   "execution_count": 4,
   "id": "687f6956",
   "metadata": {},
   "outputs": [],
   "source": [
    "modelName = \"640x640_model\"\n",
    "pretrainedModel = \"ssd_mobilenet_v2_fpnlite_640x640_coco17_tpu-8\"\n",
    "pretrainedModelURL = \"http://download.tensorflow.org/models/object_detection/tf2/20200711/ssd_mobilenet_v2_fpnlite_640x640_coco17_tpu-8.tar.gz\"\n",
    "\n",
    "# Script sourced from Tensorflow: https://tensorflow-object-detection-api-tutorial.readthedocs.io/en/tensorflow-1.14/training.html\n",
    "tfRecordScript = \"generate_tfrecord.py\"\n",
    "labelMap = \"label_map.pbtxt\""
   ]
  },
  {
   "cell_type": "code",
   "execution_count": 5,
   "id": "0e45b9bc",
   "metadata": {},
   "outputs": [],
   "source": [
    "filePaths = {\n",
    "    \"WORKSPACE\": os.path.join(\"TF\", \"workspace\"),\n",
    "    \"SCRIPTS\": os.path.join(\"TF\", \"scripts\"),\n",
    "    \"APIMODEL\": os.path.join(\"TF\", \"models\"),\n",
    "    \"ANNOTATIONS\": os.path.join(\"TF\", \"workspace\", \"annotations\"),\n",
    "    \"IMAGES\": os.path.join(\"TF\", \"workspace\", \"images\"),\n",
    "    \"PRETRAINED_MODELS\": os.path.join(\"TF\", \"workspace\", \"pretrained_models\"),\n",
    "}"
   ]
  },
  {
   "cell_type": "code",
   "execution_count": 9,
   "id": "db7d1dec",
   "metadata": {},
   "outputs": [],
   "source": [
    "files = {\n",
    "    'PIPELINE_CONFIG':os.path.join('Tensorflow', 'workspace','models', modelName, 'pipeline.config'),\n",
    "    'TF_RECORD_SCRIPT': os.path.join(filePaths['SCRIPTS'], tfRecordScript),\n",
    "    'LABELMAP': os.path.join(filePaths['ANNOTATIONS'], labelMap)\n",
    "}"
   ]
  },
  {
   "cell_type": "code",
   "execution_count": null,
   "id": "e642e4d0",
   "metadata": {},
   "outputs": [],
   "source": [
    "for path in filePaths.values():\n",
    "    !mkdir -p {pat}"
   ]
  }
 ],
 "metadata": {
  "kernelspec": {
   "display_name": "tf",
   "language": "python",
   "name": "tf"
  },
  "language_info": {
   "codemirror_mode": {
    "name": "ipython",
    "version": 3
   },
   "file_extension": ".py",
   "mimetype": "text/x-python",
   "name": "python",
   "nbconvert_exporter": "python",
   "pygments_lexer": "ipython3",
   "version": "3.10.9"
  }
 },
 "nbformat": 4,
 "nbformat_minor": 5
}
